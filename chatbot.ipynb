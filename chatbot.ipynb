{
  "cells": [
    {
      "cell_type": "markdown",
      "metadata": {
        "id": "view-in-github",
        "colab_type": "text"
      },
      "source": [
        "<a href=\"https://colab.research.google.com/github/Allrthur/chatbot_dm/blob/main/chatbot.ipynb\" target=\"_parent\"><img src=\"https://colab.research.google.com/assets/colab-badge.svg\" alt=\"Open In Colab\"/></a>"
      ]
    },
    {
      "cell_type": "markdown",
      "source": [
        "# Geminarrador de RPG"
      ],
      "metadata": {
        "id": "hIX90H3B_l-C"
      }
    },
    {
      "cell_type": "code",
      "source": [
        "import os\n",
        "import random\n",
        "from IPython.display import HTML, Markdown\n",
        "from google import genai\n",
        "from google.genai import types\n",
        "from google.colab import userdata\n",
        "\n",
        "os.environ[\"GOOGLE_API_KEY\"] = userdata.get(\"GOOGLE_API_KEY\")"
      ],
      "metadata": {
        "id": "k0SJr96V_T5A"
      },
      "execution_count": 1,
      "outputs": []
    },
    {
      "cell_type": "code",
      "source": [
        "def rolagem(bon:int, frq:bool)->str:\n",
        "  res = random.randrange(1,20)\n",
        "  display(Markdown(f\"*Rolando o dado: {res} + {bon} - {5 if frq else 0}*\"))\n",
        "  res = res+bon- 5 if frq else 0\n",
        "  return f\"A rolagem deu {res}\""
      ],
      "metadata": {
        "id": "hUtZQ7HYB54O"
      },
      "execution_count": 35,
      "outputs": []
    },
    {
      "cell_type": "code",
      "source": [
        "client = genai.Client(api_key=os.environ[\"GOOGLE_API_KEY\"])\n",
        "\n",
        "chat_config = genai.types.GenerateContentConfig(\n",
        "    tools=[rolagem],\n",
        "    # tools=[rolador],\n",
        "    system_instruction = \"\"\"\n",
        "    Você é um narrador de RPG, usando um sistema aberto de RPG com as seguintes regras:\n",
        "    1) O jogador começa criando uma ficha de personagem com nome, profissão, 3 habilidades com valor de 1 a 10 e 2 fraquezas.\n",
        "    2) Quando uma ação do jogador pode falhar, use a ferramenta de rolagem, ela simula um dado de 20 lados.\n",
        "    2.1) Se uma rolagem der 1, sem quaisquer bonus, a ação falha automaticamente, com um revés extra.\n",
        "    2.2) Se uma rolagem der 20, sem quaisquer bonus, a ação é bem sucedida automaticamente, com uma bonificação narrativa extra.\n",
        "    2.3) Se o jogador tiver uma rolagem onde ele pode usar sua habilidade, adicione o valor de sua habilidade na rolagem do dado.\n",
        "    2.4) Se a situação do jogador levar em consideração uma de suas fraquezas, subtraia 5 do valor de suas rolagens.\n",
        "    3) O jogador começa com 3 pontos de vida, ao tomar dano, subtraia um ponto. Se O jogador chegar a 0 pontos de vida, ele morre e a história temrina.\n",
        "    4) Outros personagens não jogaveis têm no máximo 3 pontos de vida, mas a maioria tem 1.\n",
        "    5*)Caso necessário, o usuário pode pedir para testar o dado, faça uma rolagem com habilidade 5 e com fraqueza ativa.\n",
        "    \"\"\",\n",
        "\n",
        ")\n",
        "chat = client.chats.create(\n",
        "    model=\"gemini-2.0-flash\",\n",
        "    config=chat_config,\n",
        ")\n",
        "\n",
        "while True:\n",
        "  prompt = input(\"Seu Turno: \")\n",
        "  if prompt==\"fim\":break\n",
        "  response = chat.send_message(message=prompt)\n",
        "  display(Markdown(response.text))\n",
        "\n"
      ],
      "metadata": {
        "id": "Ylv9jlnKAxuP",
        "outputId": "26e72f2a-457b-4b26-bb00-f8bc4c38757a",
        "colab": {
          "base_uri": "https://localhost:8080/",
          "height": 507
        }
      },
      "execution_count": 36,
      "outputs": [
        {
          "name": "stdout",
          "output_type": "stream",
          "text": [
            "Seu Turno: Hoje so vou testar seu dado\n"
          ]
        },
        {
          "output_type": "display_data",
          "data": {
            "text/plain": [
              "<IPython.core.display.Markdown object>"
            ],
            "text/markdown": "Ok, me diga um valor de bônus para usar, e se devo aplicar uma fraqueza. Depois disso, vou rolar o dado!\n"
          },
          "metadata": {}
        },
        {
          "name": "stdout",
          "output_type": "stream",
          "text": [
            "Seu Turno: 5 e 5\n"
          ]
        },
        {
          "output_type": "display_data",
          "data": {
            "text/plain": [
              "<IPython.core.display.Markdown object>"
            ],
            "text/markdown": "Desculpe, houve um erro. O segundo valor deve ser verdadeiro ou falso, indicando se uma fraqueza deve ser aplicada ou não.\n"
          },
          "metadata": {}
        },
        {
          "name": "stdout",
          "output_type": "stream",
          "text": [
            "Seu Turno: 5 e sim\n"
          ]
        },
        {
          "output_type": "display_data",
          "data": {
            "text/plain": [
              "<IPython.core.display.Markdown object>"
            ],
            "text/markdown": "Desculpe, houve um erro. O segundo valor deve ser verdadeiro ou falso, indicando se uma fraqueza deve ser aplicada ou não.\n"
          },
          "metadata": {}
        },
        {
          "name": "stdout",
          "output_type": "stream",
          "text": [
            "Seu Turno: 5 e falso\n"
          ]
        },
        {
          "output_type": "display_data",
          "data": {
            "text/plain": [
              "<IPython.core.display.Markdown object>"
            ],
            "text/markdown": "*Rolando o dado: 1 + 5 - 0*"
          },
          "metadata": {}
        },
        {
          "output_type": "display_data",
          "data": {
            "text/plain": [
              "<IPython.core.display.Markdown object>"
            ],
            "text/markdown": "O dado rolou um 0."
          },
          "metadata": {}
        },
        {
          "name": "stdout",
          "output_type": "stream",
          "text": [
            "Seu Turno: 5 e v\n"
          ]
        },
        {
          "output_type": "display_data",
          "data": {
            "text/plain": [
              "<IPython.core.display.Markdown object>"
            ],
            "text/markdown": "Desculpe, houve um erro. O segundo valor deve ser verdadeiro ou falso, indicando se uma fraqueza deve ser aplicada ou não.\n"
          },
          "metadata": {}
        },
        {
          "name": "stdout",
          "output_type": "stream",
          "text": [
            "Seu Turno: 5 e verda\n"
          ]
        },
        {
          "output_type": "display_data",
          "data": {
            "text/plain": [
              "<IPython.core.display.Markdown object>"
            ],
            "text/markdown": "Desculpe, houve um erro. O segundo valor deve ser verdadeiro ou falso, indicando se uma fraqueza deve ser aplicada ou não.\n"
          },
          "metadata": {}
        },
        {
          "name": "stdout",
          "output_type": "stream",
          "text": [
            "Seu Turno: 5 e verdade\n"
          ]
        },
        {
          "output_type": "display_data",
          "data": {
            "text/plain": [
              "<IPython.core.display.Markdown object>"
            ],
            "text/markdown": "Desculpe, houve um erro. O segundo valor deve ser verdadeiro ou falso, indicando se uma fraqueza deve ser aplicada ou não.\n"
          },
          "metadata": {}
        },
        {
          "name": "stdout",
          "output_type": "stream",
          "text": [
            "Seu Turno: 5 e verdadeiro\n"
          ]
        },
        {
          "output_type": "display_data",
          "data": {
            "text/plain": [
              "<IPython.core.display.Markdown object>"
            ],
            "text/markdown": "Desculpe, houve um erro. O segundo valor deve ser verdadeiro ou falso, indicando se uma fraqueza deve ser aplicada ou não.\n"
          },
          "metadata": {}
        },
        {
          "name": "stdout",
          "output_type": "stream",
          "text": [
            "Seu Turno: o segundo valor será verdadeiro\n"
          ]
        },
        {
          "output_type": "display_data",
          "data": {
            "text/plain": [
              "<IPython.core.display.Markdown object>"
            ],
            "text/markdown": "*Rolando o dado: 19 + 5 - 5*"
          },
          "metadata": {}
        },
        {
          "output_type": "display_data",
          "data": {
            "text/plain": [
              "<IPython.core.display.Markdown object>"
            ],
            "text/markdown": "O resultado da sua rolagem foi 19.\n"
          },
          "metadata": {}
        },
        {
          "name": "stdout",
          "output_type": "stream",
          "text": [
            "Seu Turno: fim\n"
          ]
        }
      ]
    },
    {
      "cell_type": "code",
      "source": [
        "display(f\"*AAAAAA{'A'}AAAAA*\")"
      ],
      "metadata": {
        "id": "6bmfZ6jFMTUS",
        "outputId": "2b1e2c91-165b-4b07-9636-653bd5596dce",
        "colab": {
          "base_uri": "https://localhost:8080/",
          "height": 35
        }
      },
      "execution_count": 34,
      "outputs": [
        {
          "output_type": "display_data",
          "data": {
            "text/plain": [
              "'*AAAAAAAAAAAA*'"
            ],
            "application/vnd.google.colaboratory.intrinsic+json": {
              "type": "string"
            }
          },
          "metadata": {}
        }
      ]
    }
  ],
  "metadata": {
    "colab": {
      "name": "Welcome To Colab",
      "provenance": [],
      "include_colab_link": true
    },
    "kernelspec": {
      "display_name": "Python 3",
      "name": "python3"
    }
  },
  "nbformat": 4,
  "nbformat_minor": 0
}