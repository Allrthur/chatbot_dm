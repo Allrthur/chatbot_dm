{
  "cells": [
    {
      "cell_type": "markdown",
      "metadata": {
        "id": "view-in-github",
        "colab_type": "text"
      },
      "source": [
        "<a href=\"https://colab.research.google.com/github/Allrthur/chatbot_dm/blob/main/chatbot.ipynb\" target=\"_parent\"><img src=\"https://colab.research.google.com/assets/colab-badge.svg\" alt=\"Open In Colab\"/></a>"
      ]
    },
    {
      "cell_type": "markdown",
      "source": [
        "# Geminarrador de RPG"
      ],
      "metadata": {
        "id": "hIX90H3B_l-C"
      }
    },
    {
      "cell_type": "code",
      "source": [
        "import os\n",
        "from IPython.display import HTML, Markdown\n",
        "from google import genai\n",
        "from google.genai import types\n",
        "from google.colab import userdata\n",
        "\n",
        "os.environ[\"GOOGLE_API_KEY\"] = userdata.get(\"GOOGLE_API_KEY\")"
      ],
      "metadata": {
        "id": "k0SJr96V_T5A"
      },
      "execution_count": 7,
      "outputs": []
    },
    {
      "cell_type": "code",
      "source": [
        "client = genai.Client(api_key=os.environ[\"GOOGLE_API_KEY\"])\n",
        "\n",
        "chat_config = genai.types.GenerateContentConfig(\n",
        "    system_instruction = \"\"\"\n",
        "    Você é um narrador de RPG, usando um sistema aberto de RPG com as seguintes regras:\n",
        "    \"\"\",\n",
        "\n",
        ")\n",
        "chat = client.chats.create(model=\"gemini-2.0-flash\", config=chat_config)\n",
        "\n",
        "while True:\n",
        "  chat.send_message()\n",
        "  prompt = input(\"Seu Turno: \")\n",
        "  if prompt==\"fim\":break\n",
        "  response = chat.send_message(message=prompt)\n",
        "  print(Markdown(response.text))\n",
        "\n",
        ""
      ],
      "metadata": {
        "id": "Ylv9jlnKAxuP",
        "outputId": "291f52ed-d4d1-43ba-9818-5e8fef21616d",
        "colab": {
          "base_uri": "https://localhost:8080/"
        }
      },
      "execution_count": 8,
      "outputs": [
        {
          "name": "stdout",
          "output_type": "stream",
          "text": [
            "Seu Turno: Eu sou o Eagle Man, um elfo lutador\n",
            "Entendido, Eagle Man, o elfo lutador!  Sua jornada começa em... onde você gostaria que sua aventura começasse?  Precisa de alguma inspiração? Posso te dar algumas opções:\n",
            "\n",
            "1.  **A Floresta Élfica Ancestral de Eldoria:**  O lugar onde você nasceu, mas que agora está sob uma estranha sombra de corrupção. Animais antes dóceis se tornaram agressivos, e a própria magia da floresta parece instável. Talvez seja hora de descobrir o que aflige seu lar.\n",
            "\n",
            "2.  **A Cidade Portuária de Porto Livre:** Um caldeirão de culturas, mercadores e, claro, muitos problemas. Rumores de uma sociedade secreta tramando nas sombras da cidade podem ser sua porta de entrada para uma grande aventura.\n",
            "\n",
            "3.  **As Montanhas Uivantes:** Um lugar selvagem e implacável, lar de tribos bárbaras e ruínas ancestrais. Uma lenda fala de um artefato de poder inimaginável escondido no pico mais alto, a \"Gema do Trovão\".\n",
            "\n",
            "Me diga qual desses locais te atrai mais, ou me diga outro lugar que te interesse, e vamos começar a sua história!\n",
            "\n",
            "Seu Turno: As Montanhas Uivantes, onde meu orfanato foi queimado e eu me tornei o Eagle Man, jurando proteger todos os orfãos do mundo para que nenhum orfanato queime novamente\n",
            "As Montanhas Uivantes... Um lugar de beleza selvagem e memórias dolorosas. A neve sopra forte enquanto você, Eagle Man, escala a trilha íngreme em direção ao local onde outrora se erguia o orfanato que chamava de lar. As chamas que consumiram o local há anos ainda ardem em sua memória, o juramento que você fez naquela noite ecoando em seu coração: proteger os órfãos do mundo.\n",
            "\n",
            "A trilha é traiçoeira, coberta de gelo e pedras soltas. O vento uiva como um lobo faminto, tentando te derrubar. Você está usando vestes de viagem reforçadas, com detalhes que lembram as penas de uma águia, e carrega consigo uma espada élfica de lâmina afiada, presente de um mestre ferreiro que se compadeceu de sua causa.\n",
            "\n",
            "Conforme você se aproxima do local do orfanato, nota algo estranho. Não há marcas de reconstrução, como seria de se esperar. Mas também não há sinais de destruição completa. As pedras que formavam a base do orfanato ainda estão ali, como se esperassem por algo. E no centro das ruínas, você vê... uma única flor, florescendo em meio ao gelo. Uma flor que você nunca viu antes, com pétalas de um azul vibrante, quase sobrenatural.\n",
            "\n",
            "O que você faz? Você se aproxima da flor? Examina as ruínas mais de perto? Ou tenta seguir rastros que possam levar aos responsáveis pelo incêndio?\n",
            "\n",
            "Seu Turno: fim\n"
          ]
        }
      ]
    }
  ],
  "metadata": {
    "colab": {
      "name": "Welcome To Colab",
      "provenance": [],
      "include_colab_link": true
    },
    "kernelspec": {
      "display_name": "Python 3",
      "name": "python3"
    }
  },
  "nbformat": 4,
  "nbformat_minor": 0
}